{
 "cells": [
  {
   "cell_type": "code",
   "execution_count": 1,
   "metadata": {},
   "outputs": [],
   "source": [
    "import os\n",
    "import csv \n",
    "import json\n",
    "import numpy as np\n",
    "import pandas as pd\n",
    "import seaborn as sn\n",
    "import matplotlib.pyplot as plt\n",
    "from pylab import savefig\n",
    "from datetime import datetime\n",
    "import pandas_profiling\n",
    "import sklearn\n",
    "import xgboost as xgb\n",
    "\n",
    "from scipy.stats import uniform\n",
    "from sklearn.feature_selection import SelectKBest\n",
    "from sklearn.feature_selection import chi2\n",
    "from sklearn.linear_model import Ridge\n",
    "from sklearn.neighbors import KNeighborsClassifier\n",
    "from sklearn.linear_model import LogisticRegression\n",
    "from sklearn.ensemble import RandomForestClassifier\n",
    "from sklearn.ensemble import AdaBoostClassifier\n",
    "from sklearn.svm import SVC \n",
    "from sklearn.model_selection import train_test_split\n",
    "from sklearn.preprocessing import StandardScaler\n",
    "from sklearn.pipeline import Pipeline\n",
    "from sklearn.metrics import classification_report\n",
    "from sklearn.metrics import confusion_matrix\n",
    "from sklearn.metrics import accuracy_score\n",
    "from sklearn.metrics import recall_score\n",
    "from sklearn.model_selection import GridSearchCV\n",
    "from sklearn.model_selection import RandomizedSearchCV\n",
    "\n",
    "\n",
    "def write_log_header(working_df, data_filename, session_log) :\n",
    "    \"\"\"save summary information to results file\n",
    "    \"\"\"\n",
    "\n",
    "    cols_with_nulls = working_df.columns[df.isnull().any()]\n",
    "    with open(session_log, 'w+') as f:   \n",
    "        f.write('\\nsklearn version: ' + sklearn.__version__)\n",
    "        f.write('\\npandas version: ' + pd.__version__)\n",
    "        f.write('\\nnumpy version: ' + np.__version__)\n",
    "        f.write('\\nPandas Profile version: ' + pandas_profiling.__version__)\n",
    "\n",
    "        f.write('\\n\\nData file ' + data_filename + '\\n\\n')\n",
    "        f.write('Shape: ' + str(working_df.shape) + '\\n')\n",
    "        f.write('Columns with null data: \\n')\n",
    "        if len(cols_with_nulls) == 0:\n",
    "            f.write('None\\n')\n",
    "        else:\n",
    "            for col in cols_with_nulls:\n",
    "                f.write(col + '\\n')\n",
    "\n",
    "        cols = sorted(working_df.columns)\n",
    "        f.write('\\nOriginal columns in data file: \\n')\n",
    "        for item in cols:\n",
    "            f.write(item + '\\n')            \n",
    "\n",
    "\n",
    "def update_columns(working_df, col_info_filename, session_log):\n",
    "    \"\"\" update column names to readable versions\n",
    "        data is read as categorical, update type for 4 numeric columns\n",
    "    \"\"\"\n",
    "    #these are numerical columns and are interpreted as such\n",
    "    working_df['MOD10FWK'] = pd.to_numeric(working_df['MOD10FWK'])\n",
    "    working_df['VIG10FWK'] = pd.to_numeric(working_df['VIG10FWK'])\n",
    "    working_df['STRONGFWK'] = pd.to_numeric(working_df['STRONGFWK'])\n",
    "    \n",
    "    #update column names \n",
    "    info_dict = pd.read_csv(col_info_filename, index_col=0, squeeze=True, header=None).to_dict()\n",
    "    working_df.rename(columns=info_dict, inplace=True)\n",
    "\n",
    "    cols = sorted(working_df.columns)\n",
    "    \n",
    "    with open(session_log, 'a') as f: \n",
    "        f.write('\\nrenamed columns in data file: \\n')\n",
    "        for item in cols:\n",
    "            f.write(item + '\\n')  \n",
    "\n",
    "    return working_df\n",
    "\n",
    "\n",
    "def drop_columns(working_df, cols_to_drop_filename, session_log):\n",
    "    \"\"\"drop columns with high percentage of unusable data and/or high correlation\n",
    "       to other non-target features \n",
    "    \"\"\"\n",
    "    \n",
    "    with open(session_log, 'a') as f:   \n",
    "        f.write('\\nShape before dropping columns\\n' + str(working_df.shape))\n",
    "   \n",
    "    #read columns from file\n",
    "    with open(cols_to_drop_filename, 'r') as f_cols:\n",
    "        reader = csv.reader(f_cols)\n",
    "        cols_to_drop = [r[0] for r in reader]\n",
    "    \n",
    "    #drop columns\n",
    "    working_df.drop(columns=cols_to_drop, axis=1, inplace=True)\n",
    "    \n",
    "    with open(session_log, 'a') as f:   \n",
    "        f.write('\\nShape after dropping columns\\n' + str(working_df.shape))\n",
    "    \n",
    "        cols = sorted(working_df.columns)\n",
    "        f.write('\\nFinal columns in data file: \\n')\n",
    "        for item in cols:\n",
    "            f.write(item + '\\n')            \n",
    "\n",
    "    return working_df\n",
    "\n",
    "\n",
    "def drop_invalid_target_rows(working_df, session_log):\n",
    "    \"\"\"update dataset to only use rows with target = no (1) or yes (2)\n",
    "    \"\"\"\n",
    "    \n",
    "    with open(session_log, 'a') as f:   \n",
    "        f.write('\\nShape before deleting invalid target rows\\n' + str(working_df.shape))\n",
    "   \n",
    "    new_df = working_df[(working_df['HYPERTENEV'] !='0') & \\\n",
    "                        (working_df['HYPERTENEV'] !='7') & \\\n",
    "                        (working_df['HYPERTENEV'] !='9') & \\\n",
    "                        (working_df['HYPERTENEV'] !='8') ]\n",
    "   \n",
    "    with open(session_log, 'a') as f:   \n",
    "        f.write('\\nShape after deleting invalid target rows\\n' + str(new_df.shape))\n",
    "        f.write('\\nhypertension value counts:\\n ')\n",
    "        counts = new_df['HYPERTENEV'].value_counts()\n",
    "        f.write('\\nindex: ' + str(counts.index.tolist()))\n",
    "        f.write('\\nvalues: ' + str(counts.values.tolist()))\n",
    "            \n",
    "    return new_df\n",
    "\n",
    "def drop_missing_data_rows(working_df, session_log, after_rename = False):\n",
    "    with open(session_log, 'a') as f:   \n",
    "        f.write('\\nShape before deleting missing data rows\\n' + str(working_df.shape))\n",
    "    \n",
    "    if after_rename:\n",
    "        new_df = working_df[(working_df['Ever had chickenpox'] !='0') & \\\n",
    "                            (working_df['Age first smoked fairly regularly'] !='0') & \\\n",
    "                            (working_df['Kind of usual place for medical care'] !='0')]\n",
    "        counts = new_df['Ever told had hypertension'].value_counts()\n",
    "    else:\n",
    "        new_df = working_df[(working_df['CPOXEV'] !='0') & \\\n",
    "                            (working_df['SMOKAGEREG'] !='0') & \\\n",
    "                            (working_df['TYPPLSICK'] !='0')]\n",
    "        counts = new_df['HYPERTENEV'].value_counts()\n",
    "    \n",
    "    with open(session_log, 'a') as f:   \n",
    "        f.write('\\nShape after deleting missing data rows\\n' + str(new_df.shape))\n",
    "        f.write('\\nhypertension value counts:\\n ')\n",
    "        print(counts)\n",
    "        f.write('\\nindex: ' + str(counts.index.tolist()))\n",
    "        f.write('\\nvalues: ' + str(counts.values.tolist()))\n",
    "            \n",
    "    return new_df\n",
    "\n",
    "def run_Pandas_Profiling(working_df, session_log, break_into_sections = False, num_cols=5):\n",
    "    \"\"\"Run Pandas_Profiling \n",
    "    \"\"\"\n",
    "    t0 = datetime.now()\n",
    "    start_col_idx = 0\n",
    "    end_col_idx = num_cols\n",
    "    cols = list(working_df.columns)\n",
    "    total_cols = len(cols)\n",
    "    \n",
    "    with open(session_log, 'a') as f:   \n",
    "        f.write('\\n\\nrun_Pandas_Profiling Begin\\n')\n",
    "    \n",
    "    if break_into_sections:\n",
    "        while end_col_idx <= total_cols:\n",
    "            #slice the column list by the given num_cols\n",
    "            cols_by_section = cols[start_col_idx:end_col_idx] \n",
    "\n",
    "            #make sure the target variable is in the heat maps\n",
    "            if 'Ever told had hypertension' not in cols_by_section:\n",
    "                cols_by_section.append('Ever told had hypertension')\n",
    "\n",
    "            #create a dataset with only the selected columns\n",
    "            df_to_profile = working_df.loc[:, cols_by_section]\n",
    "\n",
    "            with open(session_log, 'a') as f:   \n",
    "               f.write('\\nProfiling : ' + str(df_to_profile.columns) + '\\n')\n",
    "                \n",
    "            #run the profile\n",
    "            profile = df_to_profile.profile_report(title = 'Pandas Profiling Report')\n",
    "            profile.to_file(output_file = timestamp + '_' + str(start_col_idx) + \"output.html\")\n",
    "\n",
    "            #update the indicies for the next slice or the end slice\n",
    "            start_col_idx = end_col_idx \n",
    "            if (end_col_idx + num_cols > total_cols) and (total_cols % num_cols > 0):\n",
    "                end_col_idx += total_cols % num_cols\n",
    "            else:\n",
    "                end_col_idx += num_cols\n",
    "    else:\n",
    "        #run the profile on all of the columns\n",
    "        profile = working_df.profile_report(title='Pandas Profiling Report')\n",
    "        profile.to_file(output_file= timestamp + '_' + str(start_col_idx) + \"output.html\")\n",
    "\n",
    "    total_time = datetime.now() - t0\n",
    "    with open(session_log, 'a') as f:   \n",
    "        f.write('\\nrun_Pandas_Profiling End.  Duration: ' + str(total_time) + '\\n')\n",
    "\n",
    "\n",
    "def run_model(classifier, X_train_data, X_test_data, y_train_data, y_test_data, tuning_model='None', hyperparams={}):\n",
    "    \"\"\"fit the algorithm to training data\n",
    "       predict using testing data\n",
    "       print the confusion matrix & classification report\n",
    "       return F1 score for the positive class\n",
    "    \"\"\"\n",
    "    t0 = datetime.now()\n",
    "\n",
    "    #if performing hyperparameter tuning & cross validation, use those estimators to fit\n",
    "    #otherwise use the basic classifier\n",
    "    if tuning_model == 'Grid':\n",
    "        estimator = GridSearchCV(classifier, hyperparams, cv=5, verbose=0)\n",
    "    elif tuning_model == 'Random':\n",
    "        estimator = RandomizedSearchCV(classifier, hyperparams, n_iter=15, cv=5, verbose=0, random_state=42)\n",
    "    else:\n",
    "        estimator = classifier\n",
    "    \n",
    "    # Fit the classifier to the data\n",
    "    model = estimator.fit(X_train_data, y_train_data)\n",
    "\n",
    "    if tuning_model != 'None':\n",
    "        print('Best parameters: ', sorted(model.best_params_.items()))\n",
    "        \n",
    "    # Predict the labels for the training data X\n",
    "    y_pred = model.predict(X_test_data)\n",
    "    \n",
    "    # Print the confusion matrix and classification report\n",
    "    print('Confusion maxtrix: \\n', confusion_matrix(y_test, y_pred))\n",
    "    print('Classification report: \\n', classification_report(y_test, y_pred))\n",
    "    \n",
    "    print('Run time: ', datetime.now() - t0)\n",
    "    # Return the F1 score for the positive class to use for ranking models\n",
    "    return sklearn.metrics.f1_score(y_test, y_pred, labels=None, pos_label='2', sample_weight=None)\n",
    "    \n",
    "\n",
    "def tally_results(all_results):\n",
    "    \"\"\" determine if latest results are better than all_results\n",
    "    \"\"\"\n",
    "    latest = list(all_results.values())[-1]\n",
    "    best = max(all_results.values())\n",
    "    if latest >= best:\n",
    "        print('Improvement over prior models!')\n",
    "    else:\n",
    "        print('No improvement over prior models. Best model so far: {}, {:.2%}'.format( \n",
    "          max(model_results, key=model_results.get), best))\n",
    "    \n",
    "    \n",
    "def plot_results(results_dict):\n",
    "    \"\"\" plot bar chart of results \"\"\"\n",
    "\n",
    "    # create a list of tuples sorted by key\n",
    "    lists = sorted(results_dict.items()) \n",
    "    # unpack tuples\n",
    "    x, y = zip(*lists) \n",
    "    plt.barh(x, y)\n",
    "    plt.title('F1 score results')\n",
    "    plt.show()\n",
    "    \n",
    "\n",
    "\n",
    "def XGBoost_classifer(X_train_data, X_test_data, y_train_data, y_test_data, colnames, session_log):\n",
    "    \"\"\"Use XGBoost to predict target\n",
    "        Params defined from hyperparameter tuning\n",
    "    \"\"\"\n",
    "    print(\"XGBoost_classifer\")\n",
    "\n",
    "    mod = xgb.XGBClassifier(\n",
    "        learning_rate =0.1,   \n",
    "        n_estimators=151, \n",
    "        max_depth=5,\n",
    "        min_child_weight=1,  #default\n",
    "        gamma=1,\n",
    "        subsample=0.8,\n",
    "        colsample_bytree=0.6,\n",
    "        objective= 'binary:logistic', # try hinge - make predictions of 0 or 1, rather than probabilities\n",
    "        max_delta_step = 1, #tuning for imbalanced dataset where we care about the probability, not AUC\n",
    "        seed=42) \n",
    "\n",
    "    mod.fit(X_train_data, y_train_data)\n",
    "    y_pred = mod.predict(X_test_data)\n",
    "\n",
    "    print('Confusion maxtrix: \\n', confusion_matrix(y_test_data, y_pred))\n",
    "    print('Classification report: \\n', classification_report(y_test_data, y_pred))\n",
    "    \n",
    "    \n",
    "    coefs = list(zip(colnames, mod.feature_importances_))\n",
    "    coefs.sort(key=lambda tup: tup[1])\n",
    "   \n",
    "    with open(session_log, 'a') as f:   \n",
    "        f.write('\\nXGBoost_classifer\\n')\n",
    "        params = json.dumps(mod.get_params())\n",
    "        f.write('\\nParams' + params + '\\n')\n",
    "        f.write('\\nFeature importances' + '\\n')\n",
    "        for col, value in coefs:\n",
    "            f.write(str(value) + ':' + col + '\\n')\n",
    "        f.write(np.array2string(confusion_matrix(y_test_data, y_pred), separator=', '))\n",
    "        f.write('\\n')\n",
    "    report = classification_report(y_test_data, y_pred, output_dict=True)\n",
    "    df = pd.DataFrame(report).transpose()\n",
    "    df.to_csv(session_log, mode='a')\n",
    "    \n",
    "\n",
    "def XGBoost_grid_search_cv(X_train_data, X_test_data, y_train_data, y_test_data, session_log):\n",
    "    \"\"\"\n",
    "    Test various sets of hyperparameters, updating model with best values\n",
    "\n",
    "    #Round 1:\n",
    "    #hyperparameters = {'max_depth':range(3,10,2),'min_child_weight':range(1,6,2)}\n",
    "    #Best params:  {'max_depth': 5, 'min_child_weight': 1}\n",
    "    \"\"\"\n",
    "\n",
    "    #Round 2:\n",
    "    #hyperparameters = {'gamma':[i/10.0 for i in range(0,5)]}\n",
    "    #Best params:  {'gamma': 0.0} #however, better F1 values with gamma = 1\n",
    "\n",
    "    #Round 3:\n",
    "    #hyperparameters = {'subsample':[i/10.0 for i in range(6,10)],'colsample_bytree':[i/10.0 for i in range(6,10)]}\n",
    "    #Best params:  {'colsample_bytree': 0.6, 'subsample': 0.8}\n",
    "\n",
    "    #Round 4: \n",
    "    #hyperparameters = {'reg_alpha':[0, 0.001, 0.005, 0.01, 0.05]}\n",
    "    #Best params:  {'reg_alpha': 0.001}\n",
    "    #This produced no change in the results, so leaving it out\n",
    "\n",
    "    print(\"XGBoost grid search\")\n",
    "    mod = xgb.XGBClassifier(\n",
    "        learning_rate =0.1,   #more conservative and the default\n",
    "        n_estimators=151,     #optimized # based on xgb.cv\n",
    "        max_depth=5,\n",
    "        min_child_weight=1,  #default\n",
    "        gamma=1,\n",
    "        subsample=0.8,\n",
    "        colsample_bytree=0.6,\n",
    "        #objective= 'binary:hinge', #make predictions of 0 or 1, rather than probabilities\n",
    "        nthread=4,\n",
    "        scale_pos_weight=1, #default\n",
    "        max_delta_step = 1, #tuning for imbalanced dataset where we care about the probability, not AUC\n",
    "        seed=27)\n",
    "\n",
    "    \n",
    "    # Create grid search using 5-fold cross validation\n",
    "    print('grid search')\n",
    "    clf = GridSearchCV(mod, hyperparameters, cv=5, verbose=0)\n",
    "\n",
    "    best_model = clf.fit(X_train_data, y_train_data)\n",
    "\n",
    "    # View best hyperparameters\n",
    "    print('Best n_estimator:', best_model.best_estimator_.get_params()['n_estimators'])\n",
    "    print('Best learning rate:', best_model.best_estimator_.get_params()['learning_rate'])\n",
    "    print('Best params: ', best_model.best_params_)\n",
    "    df_results = best_model.cv_results_\n",
    "    print('Results: ', df_results )\n",
    "  \n",
    "    y_pred = best_model.predict(X_test_data)\n",
    "\n",
    "    print('Confusion maxtrix: \\n', confusion_matrix(y_test, y_pred))\n",
    "    print('Classification report: \\n', classification_report(y_test, y_pred))\n",
    "    \n",
    "    \n",
    "    with open(session_log, 'a') as f:   \n",
    "        f.write('\\nXGBoost_grid_search_sv\\n')\n",
    "        params = json.dumps(best_model.best_params_)\n",
    "        f.write('\\nBest params' + params + '\\n')\n",
    "        #f.write('\\nResults' + best_model.cv_results_ + '\\n')\n",
    "        f.write(np.array2string(confusion_matrix(y_test_data, y_pred), separator=', '))\n",
    "        f.write('\\n')\n",
    "        \n",
    "    report = classification_report(y_test_data, y_pred, output_dict=True)\n",
    "    df = pd.DataFrame(report).transpose()\n",
    "    df.to_csv(session_log, mode='a')\n",
    "\n",
    "\n",
    "def xgb_cv(X_train_data, X_test_data, y_train_data, y_test_data, session_log, cv_folds=5, early_stopping_rounds=50):\n",
    "    #use xgb cross validation to find optimal n_estimators\n",
    "    #trains until cv error hasn't reduced by early_stopping_rounds\n",
    "    \n",
    "    #using DMatrix requires label to be [0, 1], in data 1=no, 2=yes\n",
    "    y_train_data[y_train_data == '1'] = 0\n",
    "    y_train_data[y_train_data == '2'] = 1\n",
    "    y_test_data[y_test_data == '1'] = 0\n",
    "    y_test_data[y_test_data == '2'] = 1\n",
    "\n",
    "    xgb_param = {\n",
    "    'learning_rate': 0.1, \n",
    "    'n_estimators' : 151,\n",
    "    'max_depth':5,\n",
    "    'min_child_weight':1,\n",
    "    'gamma':1,\n",
    "    'subsample': 0.8, \n",
    "    'colsample_bytree': 0.6, \n",
    "    'objective': 'binary:logistic',\n",
    "    'max_delta_step' : 1, #tuning for imbalanced dataset where we care about the probability, not AUC \n",
    "    'seed':27, \n",
    "               } \n",
    "\n",
    "    \n",
    "    #xgb_param = alg.get_xgb_params()\n",
    "    xgtrain = xgb.DMatrix(X_train_data, label=y_train_data)\n",
    "    xgtest = xgb.DMatrix(X_test_data)\n",
    "\n",
    "    #use error as metric for binary classification problem\n",
    "    cvresult = xgb.cv(xgb_param, xgtrain, num_boost_round=xgb_param['n_estimators'], nfold=cv_folds,\n",
    "        metrics=['error'], early_stopping_rounds=early_stopping_rounds)\n",
    "\n",
    "    print('optimal n_estimators from xgb.cv : ', str(cvresult.shape[0]))\n",
    "\n",
    "    #update the n_estimators returned from xgb.cv\n",
    "    xgb_param['n_estimators'] = cvresult.shape[0]\n",
    "    final_gb = xgb.train(xgb_param, xgtrain, num_boost_round = cvresult.shape[0])\n",
    "    final_gb.params = xgb_param\n",
    "    \n",
    "    \n",
    "    #get feature importances\n",
    "    importances = final_gb.get_fscore()\n",
    "\n",
    "    with open(session_log, 'a') as f:   \n",
    "        f.write('\\nXgb_cv\\n')\n",
    "        params = json.dumps(xgb_param)\n",
    "        f.write('\\nParams used in cv' + params + '\\n')\n",
    "        f.write('\\noptimal n_estimators:' + str(cvresult.shape[0]) + '\\n')\n",
    "        fet_imp = json.dumps(importances)\n",
    "        f.write('\\nFeature importances ' + fet_imp + '\\n')\n",
    "\n",
    "    #Fit the algorithm on the data\n",
    "    final_gb.fit(X_train_data, y_train_data, eval_metric='auc')\n",
    "\n",
    "    #Predict on test set\n",
    "    y_pred = final_gb.predict(xgtest) \n",
    "\n",
    "    #the predict function for XGBoost outputs probabilities by default and not actual class labels\n",
    "    y_pred[y_pred > 0.5] = 1\n",
    "    y_pred[y_pred <= 0.5] = 0\n",
    "    \n",
    "    print('\\naccuracy_score  ', str(accuracy_score(y_pred, y_test)))\n",
    "    \n",
    "    cm = confusion_matrix(y_test_data, (y_pred>0.5))\n",
    "    print(cm)\n",
    "\n",
    "    # dump model with feature map\n",
    "    final_gb.dump_model('dump.raw.txt', 'featmap.txt')   \n",
    "\n",
    "    #print('Confusion maxtrix: \\n', confusion_matrix(y_test, y_pred))\n",
    "    #print('Classification report: \\n', classification_report(y_test, y_pred))\n",
    "\n",
    "    #print(\"AUC Score (Train): %f\" % metrics.roc_auc_score(y_test_data, y_predprob)\n"
   ]
  },
  {
   "cell_type": "markdown",
   "metadata": {},
   "source": [
    "### Main Calling Section"
   ]
  },
  {
   "cell_type": "code",
   "execution_count": 3,
   "metadata": {},
   "outputs": [
    {
     "name": "stdout",
     "output_type": "stream",
     "text": [
      "Raw dataframe shape:  (2061980, 51)\n"
     ]
    }
   ],
   "source": [
    "#initialize run parameters\n",
    "t0 = datetime.now()\n",
    "working_file = 'nhis_00010.csv'\n",
    "col_info_file = 'Extract9ColMapping.csv'\n",
    "cols_to_drop_file = 'Extract9ColsToDrop.csv'\n",
    "timestamp = t0.strftime(\"%Y%m%d-%H%M%S\")\n",
    "log_file = 'results' + timestamp + '.txt'\n",
    "final_file = 'finaldf_' + timestamp + '.csv'\n",
    "model_results = {}\n",
    "\n",
    "#read the raw dataset, using the survey year as the index and setting all fields to categorical datatype\n",
    "df = pd.read_csv(working_file, dtype='category', index_col = 'YEAR') #, nrows=5000)\n",
    "print('Raw dataframe shape: ', df.shape)\n",
    "\n",
    "#record library versions and original columns in raw dataset\n",
    "write_log_header(df, working_file, log_file)\n",
    "\n"
   ]
  },
  {
   "cell_type": "markdown",
   "metadata": {},
   "source": [
    "### Perform Data Wrangling to prepare data for use with models"
   ]
  },
  {
   "cell_type": "code",
   "execution_count": 4,
   "metadata": {},
   "outputs": [
    {
     "name": "stdout",
     "output_type": "stream",
     "text": [
      "1    120967\n",
      "2     78602\n",
      "8         0\n",
      "9         0\n",
      "7         0\n",
      "0         0\n",
      "Name: Ever told had hypertension, dtype: int64\n",
      "Dataframe shape after wrangling:  (199569, 38)\n"
     ]
    }
   ],
   "source": [
    "#remove all but positive or negative responses for the target variable\n",
    "df = drop_invalid_target_rows(df, log_file)\n",
    "\n",
    "#remove columns with high percentage of unsuable data\n",
    "df = drop_columns(df, cols_to_drop_file, log_file)\n",
    "\n",
    "#rename columns with reable names\n",
    "df = update_columns(df, col_info_file, log_file)\n",
    "cols = df.drop('Ever told had hypertension', axis=1).columns\n",
    "\n",
    "#remove rows wtih unusable data\n",
    "df = drop_missing_data_rows(df, log_file, True)\n",
    "\n",
    "#save dataset used for analysis\n",
    "df.to_csv(final_file)\n",
    "\n",
    "print('Dataframe shape after wrangling: ', df.shape)\n",
    "\n",
    "#Create numpy arrays for the features and the response variable\n",
    "y = df['Ever told had hypertension'].to_numpy()\n",
    "X = df.drop('Ever told had hypertension', axis=1).values\n",
    "\n",
    "#Split into training and test set\n",
    "X_train, X_test, y_train, y_test = train_test_split(X, y, test_size = 0.2, random_state=42)\n",
    "\n",
    "#Scale the data\n",
    "feature_scaler = StandardScaler()\n",
    "X_train = feature_scaler.fit_transform(X_train)\n",
    "X_test = feature_scaler.transform(X_test)\n",
    "\n",
    "#create 0/1 arrays for binary classification\n",
    "y_train_bool = np.array([0 if x == '1' else 1 for x in y_train])\n",
    "y_test_bool = np.array([0 if x == '1' else 1 for x in y_test])\n"
   ]
  },
  {
   "cell_type": "markdown",
   "metadata": {},
   "source": [
    "## Run ML models"
   ]
  },
  {
   "cell_type": "markdown",
   "metadata": {},
   "source": [
    "## 1. K Nearest Neighbors\n",
    "\n",
    "This alogrithm predicts the class of a new data point by majority vote of the \"K nearest neighbors\".\n",
    "\n",
    "Pros: The algorithm is simple and it is easy to visualize the methodology.\n",
    "\n",
    "Cons: Testing is slow because each test data point needs to be compared to all of the training data points to determine which are closest. This could make it impractical to use for real-time classification.\n"
   ]
  },
  {
   "cell_type": "markdown",
   "metadata": {},
   "source": [
    "#### KNN with default parameters and rule-of-thumb for K\n",
    "\n",
    "K determines how many neighbors are evaluated. With K at the extreme value of 1, we create a rough decision boundary and \"islands\" of data points, overfitting the model. We would get a new decision boundary for each new dataset, making the variance (how much the algoirthm changes given new data) very high.  The bias is very low, because on average the classification performance is accurate.\n",
    "\n",
    "To reduce the roughness of the decision boundary, we increase K and the algorithm uses a majority vote for classification. This reduces the variance, but increases the bias.  If K is too large, we may make the boundary too smooth and make too many mistakes.\n",
    "\n",
    "The rule-of-thumb for K is to use the square root of the number of features."
   ]
  },
  {
   "cell_type": "code",
   "execution_count": 6,
   "metadata": {},
   "outputs": [
    {
     "name": "stdout",
     "output_type": "stream",
     "text": [
      "Confusion maxtrix: \n",
      " [[21943  2274]\n",
      " [10104  5593]]\n",
      "Classification report: \n",
      "               precision    recall  f1-score   support\n",
      "\n",
      "           1       0.68      0.91      0.78     24217\n",
      "           2       0.71      0.36      0.47     15697\n",
      "\n",
      "    accuracy                           0.69     39914\n",
      "   macro avg       0.70      0.63      0.63     39914\n",
      "weighted avg       0.70      0.69      0.66     39914\n",
      "\n",
      "Run time:  0:10:56.811190\n"
     ]
    }
   ],
   "source": [
    "k = int(np.sqrt(len(X_train)))\n",
    "knn = KNeighborsClassifier(n_neighbors=k, weights='uniform', algorithm='auto', leaf_size=30, p=2, \n",
    "                           metric='minkowski', metric_params=None, n_jobs=None)\n",
    "\n",
    "model_results['KNN default'] = run_model(knn, X_train, X_test, y_train, y_test, tuning_model='None')\n"
   ]
  },
  {
   "cell_type": "markdown",
   "metadata": {},
   "source": [
    "## 2. Logistic Regression\n",
    "\n",
    "Linear regression predicts the class of a new data point by defining it as a linear function of the features, using coefficients on the features and minimizing the error term ordinary least squares, which represents the distance between the actual data point and the predicted data point. This model is used for predicting qualitative data.\n",
    "\n",
    "For the quantitative data in our dataset, logistic regression is the linear model for classification, which models the probabilities of classification outcomes with a logistic function. The error term to minimize is the mean squared error.  \n",
    "\n",
    "Pros: The concept of the algorithm is easy to grasp.\n",
    "\n",
    "Cons: Many assumptions of the data need to be satisfied in order to use this model, primarily that a linear relationship exists between the features and target. This can be difficult to verify. In addition, the complexity of the model increases as the number of features increases, making it difficult to visualize.\n"
   ]
  },
  {
   "cell_type": "code",
   "execution_count": 8,
   "metadata": {},
   "outputs": [
    {
     "name": "stdout",
     "output_type": "stream",
     "text": [
      "Confusion maxtrix: \n",
      " [[21104  3113]\n",
      " [ 8766  6931]]\n",
      "Classification report: \n",
      "               precision    recall  f1-score   support\n",
      "\n",
      "           1       0.71      0.87      0.78     24217\n",
      "           2       0.69      0.44      0.54     15697\n",
      "\n",
      "    accuracy                           0.70     39914\n",
      "   macro avg       0.70      0.66      0.66     39914\n",
      "weighted avg       0.70      0.70      0.69     39914\n",
      "\n",
      "Run time:  0:00:03.442267\n"
     ]
    }
   ],
   "source": [
    "log_reg = LogisticRegression(solver='lbfgs', max_iter=4000)\n",
    "model_results['LogReg default'] = run_model(log_reg, X_train, X_test, y_train, y_test, tuning_model='None')\n"
   ]
  },
  {
   "cell_type": "markdown",
   "metadata": {},
   "source": [
    "These results show an improvement over the f1-scores for negative and positive classifications from the K-NN model. "
   ]
  },
  {
   "cell_type": "markdown",
   "metadata": {},
   "source": [
    "## 3. Random Forest\n",
    "This algorithm uses an ensemble of decision trees. The individual trees are formed by branching on each of the features in the dataset. Each leaf is a possible outcome for the feature.  Creating an ensemble avoids the problem of overfitting that commonly occurs in individual trees.\n",
    "\n",
    "Pros: The concept of the algorithm is easy to grasp.\n",
    "\n",
    "Cons: Branching occurs iteratively with an algorithm to maximize information gain and minimize entropy. Without familiarity with information science, it is not intuitive or transparent as to how the path to each leaf is contructed. "
   ]
  },
  {
   "cell_type": "code",
   "execution_count": 9,
   "metadata": {},
   "outputs": [
    {
     "name": "stdout",
     "output_type": "stream",
     "text": [
      "Confusion maxtrix: \n",
      " [[19707  4510]\n",
      " [ 7198  8499]]\n",
      "Classification report: \n",
      "               precision    recall  f1-score   support\n",
      "\n",
      "           1       0.73      0.81      0.77     24217\n",
      "           2       0.65      0.54      0.59     15697\n",
      "\n",
      "    accuracy                           0.71     39914\n",
      "   macro avg       0.69      0.68      0.68     39914\n",
      "weighted avg       0.70      0.71      0.70     39914\n",
      "\n",
      "Run time:  0:00:58.950242\n"
     ]
    }
   ],
   "source": [
    "rfc = RandomForestClassifier(n_estimators=100, random_state=42)\n",
    "model_results['Random Forest default'] = run_model(rfc, X_train, X_test, y_train, y_test, tuning_model='None')\n"
   ]
  },
  {
   "cell_type": "markdown",
   "metadata": {},
   "source": [
    "## 4. AdaBoost\n",
    "The Adaptive Boosting algorithm uses repeated training of weak learners on weighted training data, where incorrect predictions are given more influence, so subsequent learners are directed to focus on examples missed by previous iterations.\n",
    "\n",
    "Pros: The concept of the algorithm is easy to grasp, and boosting algorithms typically produce better results than other algorithms.\n",
    "\n",
    "Cons: The algorithm is more complex than other models and it is difficult to visualize the process."
   ]
  },
  {
   "cell_type": "code",
   "execution_count": 10,
   "metadata": {},
   "outputs": [
    {
     "name": "stdout",
     "output_type": "stream",
     "text": [
      "Confusion maxtrix: \n",
      " [[20808  3409]\n",
      " [ 8027  7670]]\n",
      "Classification report: \n",
      "               precision    recall  f1-score   support\n",
      "\n",
      "           1       0.72      0.86      0.78     24217\n",
      "           2       0.69      0.49      0.57     15697\n",
      "\n",
      "    accuracy                           0.71     39914\n",
      "   macro avg       0.71      0.67      0.68     39914\n",
      "weighted avg       0.71      0.71      0.70     39914\n",
      "\n",
      "Run time:  0:00:31.383392\n"
     ]
    }
   ],
   "source": [
    "abc = AdaBoostClassifier(n_estimators=50, base_estimator=None, learning_rate=1, random_state=42)\n",
    "\n",
    "model_results['AdaBoost default'] = run_model(abc, X_train, X_test, y_train, y_test, tuning_model='None')\n"
   ]
  },
  {
   "cell_type": "markdown",
   "metadata": {},
   "source": [
    "## Hyperparameter Tuning"
   ]
  },
  {
   "cell_type": "markdown",
   "metadata": {},
   "source": [
    "#### Logistic Regression with hyperparameter tuning and cross validation\n",
    "\n",
    "Regularization adds a term to the mean squared error formula, penalizing large coefficients, helping to prevent overfitting. It is applied by default, but can be customized with parameters.\n",
    "\n",
    "C controls the inverse of the regularization strength. A large C can lead to an overfit model, while a small C can lead to an underfit model.\n",
    "\n",
    "L1 minimizes the sum of the absolute differences (S) between the target value (Yi) and the estimated values (f(xi)), aka \"least absolute deviations\".  L2 minimizing the sum of the square of the differences (S) between the target value (Yi) and the estimated values (f(xi), aka \"least squares error\".\n",
    "\n",
    "The liblinear solver is good for small datasets.\n",
    "\n",
    "The balanced mode of the class_weight parameter uses the values of Y to automatically adjust weights inversely proportional to class frequencies in the input data."
   ]
  },
  {
   "cell_type": "code",
   "execution_count": 11,
   "metadata": {},
   "outputs": [],
   "source": [
    "logreg = LogisticRegression(max_iter=4000)\n",
    "\n",
    "# Create regularization penalty space\n",
    "penalty_list = ['l1', 'l2']\n",
    "c_space = np.logspace(-5, 10, 15)\n",
    "\n",
    "# Create solver list \n",
    "solver_list = ['liblinear',  'saga']\n",
    "    \n",
    "# try balancing / not balancing\n",
    "class_weight_list = ['balanced', None]\n",
    "\n",
    "hyper_logreg = dict(penalty=penalty_list, C=c_space, solver = solver_list,\n",
    "        class_weight=class_weight_list)\n",
    "    "
   ]
  },
  {
   "cell_type": "markdown",
   "metadata": {},
   "source": [
    "#### i. Logistic Regression with grid search hyperparameter tuning and cross validation"
   ]
  },
  {
   "cell_type": "code",
   "execution_count": 12,
   "metadata": {},
   "outputs": [
    {
     "name": "stdout",
     "output_type": "stream",
     "text": [
      "Best parameters:  [('C', 0.0013894954943731374), ('class_weight', None), ('penalty', 'l2'), ('solver', 'liblinear')]\n",
      "Confusion maxtrix: \n",
      " [[21084  3133]\n",
      " [ 8742  6955]]\n",
      "Classification report: \n",
      "               precision    recall  f1-score   support\n",
      "\n",
      "           1       0.71      0.87      0.78     24217\n",
      "           2       0.69      0.44      0.54     15697\n",
      "\n",
      "    accuracy                           0.70     39914\n",
      "   macro avg       0.70      0.66      0.66     39914\n",
      "weighted avg       0.70      0.70      0.69     39914\n",
      "\n",
      "Run time:  0:15:53.195898\n"
     ]
    }
   ],
   "source": [
    "model_results['LogReg GridSearch'] = run_model(logreg, X_train, X_test, y_train, y_test,\n",
    "                                               tuning_model = 'Grid', hyperparams = hyper_logreg)\n"
   ]
  },
  {
   "cell_type": "markdown",
   "metadata": {},
   "source": [
    "#### ii. Logistic Regression with random search hyperparameter tuning and cross validation"
   ]
  },
  {
   "cell_type": "code",
   "execution_count": 13,
   "metadata": {},
   "outputs": [
    {
     "name": "stdout",
     "output_type": "stream",
     "text": [
      "Best parameters:  [('C', 0.19306977288832497), ('class_weight', None), ('penalty', 'l1'), ('solver', 'liblinear')]\n",
      "Confusion maxtrix: \n",
      " [[21105  3112]\n",
      " [ 8765  6932]]\n",
      "Classification report: \n",
      "               precision    recall  f1-score   support\n",
      "\n",
      "           1       0.71      0.87      0.78     24217\n",
      "           2       0.69      0.44      0.54     15697\n",
      "\n",
      "    accuracy                           0.70     39914\n",
      "   macro avg       0.70      0.66      0.66     39914\n",
      "weighted avg       0.70      0.70      0.69     39914\n",
      "\n",
      "Run time:  0:01:56.663322\n"
     ]
    }
   ],
   "source": [
    "model_results['LogReg RandomSearch'] = run_model(logreg, X_train, X_test, y_train, y_test,\n",
    "                                               tuning_model = 'Random', hyperparams = hyper_logreg)\n"
   ]
  },
  {
   "cell_type": "markdown",
   "metadata": {},
   "source": [
    "#### AdaBoost with hyperparameter tuning and cross validation\n",
    "\n",
    "n_estimators is the maximum number of weak learners to create.  The default type of weak learner is DecisionTreeClassifier.\n",
    "\n",
    "Learning rate shrinks the contribution of each classifier.\n",
    "\n",
    "The algorithm list allows for calculating class probabilities or discrete values."
   ]
  },
  {
   "cell_type": "code",
   "execution_count": 14,
   "metadata": {},
   "outputs": [],
   "source": [
    "abc = AdaBoostClassifier(random_state=42)\n",
    "\n",
    "n_estimator_list = [50, 100, 150]\n",
    "learning_rate_list = [1, 0.5, 0.25]\n",
    "algorithm_list = ['SAMME.R', 'SAMME']  \n",
    "hyper_abc = dict(n_estimators=n_estimator_list, learning_rate=learning_rate_list, algorithm = algorithm_list)\n",
    "    "
   ]
  },
  {
   "cell_type": "markdown",
   "metadata": {},
   "source": [
    "#### i. AdaBoost with grid search hyperparameter tuning and cross validation"
   ]
  },
  {
   "cell_type": "code",
   "execution_count": 15,
   "metadata": {},
   "outputs": [
    {
     "name": "stdout",
     "output_type": "stream",
     "text": [
      "Best parameters:  [('algorithm', 'SAMME.R'), ('learning_rate', 1), ('n_estimators', 150)]\n",
      "Confusion maxtrix: \n",
      " [[20814  3403]\n",
      " [ 7968  7729]]\n",
      "Classification report: \n",
      "               precision    recall  f1-score   support\n",
      "\n",
      "           1       0.72      0.86      0.79     24217\n",
      "           2       0.69      0.49      0.58     15697\n",
      "\n",
      "    accuracy                           0.72     39914\n",
      "   macro avg       0.71      0.68      0.68     39914\n",
      "weighted avg       0.71      0.72      0.70     39914\n",
      "\n",
      "Run time:  3:08:25.965164\n"
     ]
    }
   ],
   "source": [
    "model_results['AdaBoost GridSearch'] = run_model(abc, X_train, X_test, y_train, y_test,\n",
    "                                               tuning_model = 'Grid', hyperparams = hyper_abc)\n"
   ]
  },
  {
   "cell_type": "markdown",
   "metadata": {},
   "source": [
    "#### ii. AdaBoost with random search hyperparameter tuning and cross validation"
   ]
  },
  {
   "cell_type": "code",
   "execution_count": 16,
   "metadata": {},
   "outputs": [
    {
     "name": "stdout",
     "output_type": "stream",
     "text": [
      "Best parameters:  [('algorithm', 'SAMME.R'), ('learning_rate', 1), ('n_estimators', 150)]\n",
      "Confusion maxtrix: \n",
      " [[20814  3403]\n",
      " [ 7968  7729]]\n",
      "Classification report: \n",
      "               precision    recall  f1-score   support\n",
      "\n",
      "           1       0.72      0.86      0.79     24217\n",
      "           2       0.69      0.49      0.58     15697\n",
      "\n",
      "    accuracy                           0.72     39914\n",
      "   macro avg       0.71      0.68      0.68     39914\n",
      "weighted avg       0.71      0.72      0.70     39914\n",
      "\n",
      "Run time:  2:04:10.026901\n"
     ]
    }
   ],
   "source": [
    "model_results['AdaBoost RandomSearch'] = run_model(abc, X_train, X_test, y_train, y_test,\n",
    "                                               tuning_model = 'Random', hyperparams = hyper_abc)\n"
   ]
  },
  {
   "cell_type": "markdown",
   "metadata": {},
   "source": [
    "#### Random Forest with hyperparameter tuning and cross validation\n",
    "\n",
    "n_estimators is the number of trees in the forest. The larger the better, but this increases the computational cost, and improvements will plateau.\n",
    "\n",
    "max_features is the size of the random subsets of features to consider when splitting a node. Low numbers reduce variance but increase bias. The rule of thumb for classification problems is to use the square root of the number of features. \n",
    "\n",
    "Bootstrap samples are used by default, setting this parameter to false will use the entire dataset."
   ]
  },
  {
   "cell_type": "code",
   "execution_count": 21,
   "metadata": {},
   "outputs": [],
   "source": [
    "rfc = RandomForestClassifier(random_state=42)\n",
    "\n",
    "n_estimator_list = [100, 150, 200]\n",
    "max_features_size = ['sqrt']\n",
    "bootstrap_list = [True, False]\n",
    "\n",
    "hyper_rfc = dict(n_estimators=n_estimator_list, max_features=max_features_size, bootstrap=bootstrap_list)\n",
    "    "
   ]
  },
  {
   "cell_type": "code",
   "execution_count": 22,
   "metadata": {},
   "outputs": [
    {
     "name": "stdout",
     "output_type": "stream",
     "text": [
      "Best parameters:  [('bootstrap', True), ('max_features', 'sqrt'), ('n_estimators', 200)]\n",
      "Confusion maxtrix: \n",
      " [[19686  4531]\n",
      " [ 7143  8554]]\n",
      "Classification report: \n",
      "               precision    recall  f1-score   support\n",
      "\n",
      "           1       0.73      0.81      0.77     24217\n",
      "           2       0.65      0.54      0.59     15697\n",
      "\n",
      "    accuracy                           0.71     39914\n",
      "   macro avg       0.69      0.68      0.68     39914\n",
      "weighted avg       0.70      0.71      0.70     39914\n",
      "\n",
      "Run time:  0:31:56.616577\n"
     ]
    }
   ],
   "source": [
    "model_results['Random Forest GridSearch'] = run_model(rfc, X_train, X_test, y_train, y_test,\n",
    "                                               tuning_model = 'Grid', hyperparams = hyper_rfc)\n"
   ]
  },
  {
   "cell_type": "markdown",
   "metadata": {},
   "source": [
    "Since the best value for the number of estimators was at the top of the range given, we can try again with values greater than 200, and used the optimized values for the other parameters."
   ]
  },
  {
   "cell_type": "code",
   "execution_count": 23,
   "metadata": {},
   "outputs": [],
   "source": [
    "rfc = RandomForestClassifier(random_state=42)\n",
    "\n",
    "n_estimator_list = [200, 400, 600]\n",
    "max_features_size = ['sqrt']\n",
    "bootstrap_list = [True]\n",
    "\n",
    "hyper_rfc = dict(n_estimators=n_estimator_list, max_features=max_features_size, bootstrap=bootstrap_list)\n",
    "    "
   ]
  },
  {
   "cell_type": "code",
   "execution_count": 24,
   "metadata": {},
   "outputs": [
    {
     "name": "stdout",
     "output_type": "stream",
     "text": [
      "Best parameters:  [('bootstrap', True), ('max_features', 'sqrt'), ('n_estimators', 600)]\n",
      "Confusion maxtrix: \n",
      " [[19635  4582]\n",
      " [ 7055  8642]]\n",
      "Classification report: \n",
      "               precision    recall  f1-score   support\n",
      "\n",
      "           1       0.74      0.81      0.77     24217\n",
      "           2       0.65      0.55      0.60     15697\n",
      "\n",
      "    accuracy                           0.71     39914\n",
      "   macro avg       0.69      0.68      0.68     39914\n",
      "weighted avg       0.70      0.71      0.70     39914\n",
      "\n",
      "Run time:  0:57:29.035663\n"
     ]
    }
   ],
   "source": [
    "model_results['Random Forest GridSearch2'] = run_model(rfc, X_train, X_test, y_train, y_test,\n",
    "                                               tuning_model = 'Grid', hyperparams = hyper_rfc)\n"
   ]
  },
  {
   "cell_type": "markdown",
   "metadata": {},
   "source": [
    "Given the improvement in the F1 score at the top range of the number of estimators, we can repeat the process of finding the optimal number of trees. Of note, tuning n_estimators up to 600 took twice as long as the first tuning round."
   ]
  },
  {
   "cell_type": "code",
   "execution_count": 25,
   "metadata": {},
   "outputs": [],
   "source": [
    "rfc = RandomForestClassifier(random_state=42)\n",
    "\n",
    "n_estimator_list = [800, 1000, 1500]\n",
    "max_features_size = ['sqrt']\n",
    "bootstrap_list = [True]\n",
    "\n",
    "hyper_rfc = dict(n_estimators=n_estimator_list, max_features=max_features_size, bootstrap=bootstrap_list)\n",
    "    "
   ]
  },
  {
   "cell_type": "code",
   "execution_count": 26,
   "metadata": {},
   "outputs": [
    {
     "name": "stdout",
     "output_type": "stream",
     "text": [
      "Best parameters:  [('bootstrap', True), ('max_features', 'sqrt'), ('n_estimators', 1000)]\n",
      "Confusion maxtrix: \n",
      " [[19655  4562]\n",
      " [ 7057  8640]]\n",
      "Classification report: \n",
      "               precision    recall  f1-score   support\n",
      "\n",
      "           1       0.74      0.81      0.77     24217\n",
      "           2       0.65      0.55      0.60     15697\n",
      "\n",
      "    accuracy                           0.71     39914\n",
      "   macro avg       0.70      0.68      0.68     39914\n",
      "weighted avg       0.70      0.71      0.70     39914\n",
      "\n",
      "Run time:  2:08:22.776582\n"
     ]
    }
   ],
   "source": [
    "model_results['Random Forest GridSearch3'] = run_model(rfc, X_train, X_test, y_train, y_test,\n",
    "                                               tuning_model = 'Grid', hyperparams = hyper_rfc)\n"
   ]
  },
  {
   "cell_type": "markdown",
   "metadata": {},
   "source": [
    "This iteration shows that the optimal estimators were not any better at the top end of our range, so we will make this the final round."
   ]
  },
  {
   "cell_type": "markdown",
   "metadata": {},
   "source": [
    "## 5. XGBoost\n",
    "The Extreme Gradient Boosting algorithm is an implementation of gradient boosted decision trees.  Like Adaptive Boosting, it trains many models sequentially. Each new model gradually minimizes a loss function of the whole system using the Gradient Descent method, an iterative optimization algorithm for finding the minimum of a function. The goal is to create new base learners that are maximally correlated with a negative gradient of the loss function associated with the whole ensemble.  "
   ]
  },
  {
   "cell_type": "markdown",
   "metadata": {},
   "source": [
    "#### a) XGBoost with default parameters"
   ]
  },
  {
   "cell_type": "code",
   "execution_count": 27,
   "metadata": {},
   "outputs": [
    {
     "name": "stdout",
     "output_type": "stream",
     "text": [
      "Confusion maxtrix: \n",
      " [[20594  3623]\n",
      " [ 7722  7975]]\n",
      "Classification report: \n",
      "               precision    recall  f1-score   support\n",
      "\n",
      "           1       0.73      0.85      0.78     24217\n",
      "           2       0.69      0.51      0.58     15697\n",
      "\n",
      "    accuracy                           0.72     39914\n",
      "   macro avg       0.71      0.68      0.68     39914\n",
      "weighted avg       0.71      0.72      0.71     39914\n",
      "\n",
      "Run time:  0:00:45.358605\n"
     ]
    }
   ],
   "source": [
    "#max_delta_step = 1 helps with tuning for imbalanced dataset where we care about the probability, not AUC \n",
    "xgb_def = xgb.XGBClassifier(max_delta_step = 1, seed=42)\n",
    "\n",
    "model_results['XGBoost default'] = run_model(xgb_def, X_train, X_test, y_train, y_test, tuning_model='None')\n"
   ]
  },
  {
   "cell_type": "markdown",
   "metadata": {},
   "source": [
    "#### b) XGBoost with hyperparameter tuning and cross validation\n",
    "XGBoost exposes many parameters that can be tuned. An subset most appliccable to this dataset has been chosen as follows:\n",
    "\n",
    "n_estimators is the maximum number of weak learners to create.  The default type of weak learner is gbtree, a tree based model.\n",
    "\n",
    "Learning rate shrinks the contribution of each classifier.\n",
    "\n",
    "Controlling overfitting:\n",
    "\n",
    "1) Control model complexity with \n",
    "* max_depth - maximum depth of the tree. Inceasing this value increases complexity and risks overfitting.\n",
    "* min_child_weight - if a partition step results in a leaf node with the sum of instance weight less than this parameter, partitioning stops. Higher values reduce complexity.\n",
    "* gamma - minimum loss reduction required to make a further partition. Higher gamma reduces complexity.\n",
    "* reg_alpha - L1 regularization term on weights. Higher values reduce complexity.\n",
    "\n",
    "2) Add randomness to make training resistant to effect of noise in the data with \n",
    "* subsample - the proportion of training data to randomly sample prior to growing trees to prevent overfitting.\n",
    "* colsample_bytree - the subsample ratio of columns to use when constructing each tree, to prevent overfitting.\n",
    "\n",
    "Because of the large number of hyperparameters available, parameter tuning will be done in batches, using tuned parameters in subsequent iterations."
   ]
  },
  {
   "cell_type": "code",
   "execution_count": 30,
   "metadata": {},
   "outputs": [],
   "source": [
    "n_estimator_list = [800, 1000, 1500]\n",
    "learning_rate_list = [0.01, 0.1, 1]\n",
    "max_depth_list = [3, 5, 7]\n",
    "min_child_weight_list = [0, 2, 4]\n",
    "gamma_list = [0, 1]\n",
    "subsample_list = [i/10.0 for i in range(6,10)]\n",
    "colsample_bytree_list = [i/10.0 for i in range(3,5)]\n",
    "reg_alpha_list = [0, 0.001, 0.005, 0.01]\n"
   ]
  },
  {
   "cell_type": "code",
   "execution_count": 31,
   "metadata": {},
   "outputs": [
    {
     "name": "stdout",
     "output_type": "stream",
     "text": [
      "Best parameters:  [('learning_rate', 0.1), ('n_estimators', 800)]\n",
      "Confusion maxtrix: \n",
      " [[20263  3954]\n",
      " [ 7290  8407]]\n",
      "Classification report: \n",
      "               precision    recall  f1-score   support\n",
      "\n",
      "           1       0.74      0.84      0.78     24217\n",
      "           2       0.68      0.54      0.60     15697\n",
      "\n",
      "    accuracy                           0.72     39914\n",
      "   macro avg       0.71      0.69      0.69     39914\n",
      "weighted avg       0.71      0.72      0.71     39914\n",
      "\n",
      "Run time:  9:43:20.989172\n"
     ]
    }
   ],
   "source": [
    "#Round 1:\n",
    "hyper_xgb = dict(n_estimators=n_estimator_list, learning_rate=learning_rate_list)\n",
    "xgb_def = xgb.XGBClassifier(max_delta_step = 1, seed=42)\n",
    "model_results['XGBoost GridSearch'] = run_model(xgb_def, X_train, X_test, y_train, y_test,\n",
    "                                               tuning_model = 'Grid', hyperparams = hyper_xgb)\n"
   ]
  },
  {
   "cell_type": "markdown",
   "metadata": {},
   "source": [
    "The learning rate and number of estimators will be set to the values of 0.1 and 800 tuned in round 1."
   ]
  },
  {
   "cell_type": "code",
   "execution_count": 32,
   "metadata": {},
   "outputs": [
    {
     "name": "stdout",
     "output_type": "stream",
     "text": [
      "Best parameters:  [('max_depth', 3), ('min_child_weight', 4)]\n",
      "Confusion maxtrix: \n",
      " [[20262  3955]\n",
      " [ 7313  8384]]\n",
      "Classification report: \n",
      "               precision    recall  f1-score   support\n",
      "\n",
      "           1       0.73      0.84      0.78     24217\n",
      "           2       0.68      0.53      0.60     15697\n",
      "\n",
      "    accuracy                           0.72     39914\n",
      "   macro avg       0.71      0.69      0.69     39914\n",
      "weighted avg       0.71      0.72      0.71     39914\n",
      "\n",
      "Run time:  14:33:34.090771\n"
     ]
    }
   ],
   "source": [
    "#Round 2:\n",
    "hyper_xgb = dict(max_depth = max_depth_list, min_child_weight = min_child_weight_list)\n",
    "#Use tuned parameters from round 1\n",
    "xgb_def = xgb.XGBClassifier(max_delta_step = 1, seed=42, \n",
    "                            n_estimators=800, learning_rate=0.1) \n",
    "model_results['XGBoost GridSearch2'] = run_model(xgb_def, X_train, X_test, y_train, y_test,\n",
    "                                               tuning_model = 'Grid', hyperparams = hyper_xgb)"
   ]
  },
  {
   "cell_type": "code",
   "execution_count": 34,
   "metadata": {},
   "outputs": [
    {
     "name": "stdout",
     "output_type": "stream",
     "text": [
      "Best parameters:  [('gamma', 1), ('subsample', 0.9)]\n",
      "Confusion maxtrix: \n",
      " [[20216  4001]\n",
      " [ 7268  8429]]\n",
      "Classification report: \n",
      "               precision    recall  f1-score   support\n",
      "\n",
      "           1       0.74      0.83      0.78     24217\n",
      "           2       0.68      0.54      0.60     15697\n",
      "\n",
      "    accuracy                           0.72     39914\n",
      "   macro avg       0.71      0.69      0.69     39914\n",
      "weighted avg       0.71      0.72      0.71     39914\n",
      "\n",
      "Run time:  5:16:19.582319\n"
     ]
    }
   ],
   "source": [
    "#Round 3:\n",
    "hyper_xgb = dict(gamma = gamma_list, subsample = subsample_list)\n",
    "#Use tuned parameters from round 2\n",
    "xgb_def = xgb.XGBClassifier(max_delta_step = 1, seed=42,\n",
    "                            n_estimators=800, learning_rate=0.1,\n",
    "                            max_depth=3, min_child_weight=4)\n",
    "model_results['XGBoost GridSearch3'] = run_model(xgb_def, X_train, X_test, y_train, y_test,\n",
    "                                               tuning_model = 'Grid', hyperparams = hyper_xgb)"
   ]
  },
  {
   "cell_type": "code",
   "execution_count": 35,
   "metadata": {},
   "outputs": [
    {
     "name": "stdout",
     "output_type": "stream",
     "text": [
      "Best parameters:  [('colsample_bytree', 0.4), ('reg_alpha', 0.01)]\n",
      "Confusion maxtrix: \n",
      " [[20283  3934]\n",
      " [ 7256  8441]]\n",
      "Classification report: \n",
      "               precision    recall  f1-score   support\n",
      "\n",
      "           1       0.74      0.84      0.78     24217\n",
      "           2       0.68      0.54      0.60     15697\n",
      "\n",
      "    accuracy                           0.72     39914\n",
      "   macro avg       0.71      0.69      0.69     39914\n",
      "weighted avg       0.72      0.72      0.71     39914\n",
      "\n",
      "Run time:  2:49:45.539969\n"
     ]
    }
   ],
   "source": [
    "#Round 4:\n",
    "hyper_xgb = dict(colsample_bytree = colsample_bytree_list, reg_alpha = reg_alpha_list)\n",
    "#Use tuned parameters from round 3\n",
    "xgb_def = xgb.XGBClassifier(max_delta_step = 1, seed=42, \n",
    "                            n_estimators=800, learning_rate=0.1,\n",
    "                            max_depth=3, min_child_weight=4,\n",
    "                            gamma=1, subsample=0.9)\n",
    "model_results['XGBoost GridSearch4'] = run_model(xgb_def, X_train, X_test, y_train, y_test,\n",
    "                                               tuning_model = 'Grid', hyperparams = hyper_xgb)"
   ]
  },
  {
   "cell_type": "code",
   "execution_count": 36,
   "metadata": {},
   "outputs": [
    {
     "data": {
      "image/png": "[encoded data removed]",
      "text/plain": [
       "<Figure size 432x288 with 1 Axes>"
      ]
     },
     "metadata": {
      "needs_background": "light"
     },
     "output_type": "display_data"
    }
   ],
   "source": [
    "plot_results(model_results)"
   ]
  },
  {
   "cell_type": "code",
   "execution_count": null,
   "metadata": {},
   "outputs": [],
   "source": []
  }
 ],
 "metadata": {
  "kernelspec": {
   "display_name": "Python 3",
   "language": "python",
   "name": "python3"
  },
  "language_info": {
   "codemirror_mode": {
    "name": "ipython",
    "version": 3
   },
   "file_extension": ".py",
   "mimetype": "text/x-python",
   "name": "python",
   "nbconvert_exporter": "python",
   "pygments_lexer": "ipython3",
   "version": "3.7.1"
  }
 },
 "nbformat": 4,
 "nbformat_minor": 2
}
